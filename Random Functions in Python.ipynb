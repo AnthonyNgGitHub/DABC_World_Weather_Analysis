{
 "cells": [
  {
   "cell_type": "code",
   "execution_count": 1,
   "metadata": {},
   "outputs": [],
   "source": [
    "import random"
   ]
  },
  {
   "cell_type": "code",
   "execution_count": 2,
   "metadata": {},
   "outputs": [
    {
     "data": {
      "text/plain": [
       "0.23169482319169565"
      ]
     },
     "execution_count": 2,
     "metadata": {},
     "output_type": "execute_result"
    }
   ],
   "source": [
    "# returns a floating-point december number between 0 and 1\n",
    "# will not generate a whole integer\n",
    "random.random()"
   ]
  },
  {
   "cell_type": "code",
   "execution_count": 14,
   "metadata": {},
   "outputs": [
    {
     "data": {
      "text/plain": [
       "-71"
      ]
     },
     "execution_count": 14,
     "metadata": {},
     "output_type": "execute_result"
    }
   ],
   "source": [
    "# returns a whole integer between the interval\n",
    "# willl not generate a floating point decimal number\n",
    "random.randint(-90,90)"
   ]
  },
  {
   "cell_type": "code",
   "execution_count": 23,
   "metadata": {},
   "outputs": [
    {
     "data": {
      "text/plain": [
       "-66"
      ]
     },
     "execution_count": 23,
     "metadata": {},
     "output_type": "execute_result"
    }
   ],
   "source": [
    "# returns a whole number between the interval that is divisible by the increment \n",
    "# (the step is the difference between each number in the sequence.)\n",
    "# will not generate a floating-point decimal number\n",
    "random.randrange(-90,90,2)"
   ]
  },
  {
   "cell_type": "code",
   "execution_count": 12,
   "metadata": {},
   "outputs": [
    {
     "data": {
      "text/plain": [
       "-5.069076323561223"
      ]
     },
     "execution_count": 12,
     "metadata": {},
     "output_type": "execute_result"
    }
   ],
   "source": [
    "# returns a floating-point decimal number between the interval\n",
    "# will not generate a whole integer\n",
    "random.uniform(-10,10)"
   ]
  },
  {
   "cell_type": "code",
   "execution_count": 18,
   "metadata": {},
   "outputs": [
    {
     "data": {
      "text/plain": [
       "-81.11119190261124"
      ]
     },
     "execution_count": 18,
     "metadata": {},
     "output_type": "execute_result"
    }
   ],
   "source": [
    "# If we combine random.randint(-90, 89) and random.random() to generate a floating-point decimal between –90 and 90,\n",
    "# we can generate a random latitude.\n",
    "random_number = random.randint(-90,89) + random.random()\n",
    "random_number"
   ]
  },
  {
   "cell_type": "code",
   "execution_count": 22,
   "metadata": {},
   "outputs": [],
   "source": [
    "# Assign the variable x to 1.\n",
    "x = 1\n",
    "\n",
    "# Initialize an empty list\n",
    "latitudes = []\n",
    "\n",
    "# We create a while loop where we generate a random latitude and add it to the list.\n",
    "while x < 11:\n",
    "    random_lat = random.randint(-90, 89) + random.random()\n",
    "    latitudes.append(random_lat)\n",
    "    \n",
    "    # After the random latitude is added to the list we add one to the variable \"x\".\n",
    "    x += 1\n",
    "    \n",
    "# The while loop condition is checked again and will continue to run as long as x is less than 11."
   ]
  },
  {
   "cell_type": "code",
   "execution_count": 20,
   "metadata": {},
   "outputs": [
    {
     "data": {
      "text/plain": [
       "[22.31140990099693,\n",
       " -75.57542537958585,\n",
       " 88.79123258491788,\n",
       " -58.14427926241403,\n",
       " 46.47685510853415,\n",
       " 82.80564675316839,\n",
       " -31.22814668106291,\n",
       " -27.896645675839316,\n",
       " -53.28982874790099,\n",
       " 70.94862356386932]"
      ]
     },
     "execution_count": 20,
     "metadata": {},
     "output_type": "execute_result"
    }
   ],
   "source": [
    "latitudes"
   ]
  },
  {
   "cell_type": "code",
   "execution_count": 24,
   "metadata": {},
   "outputs": [
    {
     "data": {
      "text/plain": [
       "67"
      ]
     },
     "execution_count": 24,
     "metadata": {},
     "output_type": "execute_result"
    }
   ],
   "source": [
    "random.randrange(-90,90,step=1)"
   ]
  },
  {
   "cell_type": "code",
   "execution_count": 29,
   "metadata": {},
   "outputs": [],
   "source": [
    "y = 1\n",
    "\n",
    "longtitudes = []\n",
    "\n",
    "while y < 11:\n",
    "    random_long = random.randrange(-90,90,step=1) + random.random()\n",
    "    longtitudes.append(random_long)\n",
    "    y += 1\n",
    "    "
   ]
  },
  {
   "cell_type": "code",
   "execution_count": 30,
   "metadata": {},
   "outputs": [
    {
     "data": {
      "text/plain": [
       "[-85.00570356282338,\n",
       " -19.233369323802393,\n",
       " -8.76908427135457,\n",
       " -42.589441454142154,\n",
       " 9.447338245117193,\n",
       " -50.341589688406025,\n",
       " 39.77671577171785,\n",
       " -81.58133568503742,\n",
       " 37.19554569882251,\n",
       " 58.63488575751804]"
      ]
     },
     "execution_count": 30,
     "metadata": {},
     "output_type": "execute_result"
    }
   ],
   "source": [
    "longtitudes"
   ]
  },
  {
   "cell_type": "code",
   "execution_count": 32,
   "metadata": {},
   "outputs": [],
   "source": [
    "# Import the NumPy module\n",
    "import numpy as np\n",
    "\n",
    "# The NumPy module has a built-in random module, and supplements the built-in Python random module.\n",
    "# There is no need to import the random module if we import the NumPy module, as it's redundant."
   ]
  },
  {
   "cell_type": "code",
   "execution_count": 34,
   "metadata": {},
   "outputs": [
    {
     "data": {
      "text/plain": [
       "-62.355994384317974"
      ]
     },
     "execution_count": 34,
     "metadata": {},
     "output_type": "execute_result"
    }
   ],
   "source": [
    "# When we use the NumPy module with the random.uniform() function,\n",
    "# the parenthetical parameters contain a lower boundary (low value) and\n",
    "# an upper boundary (high value) that are floating-point decimal numbers\n",
    "\n",
    "\n",
    "np.random.uniform(-90.000,90.000)"
   ]
  },
  {
   "cell_type": "code",
   "execution_count": 36,
   "metadata": {},
   "outputs": [
    {
     "data": {
      "text/plain": [
       "array([ 2.55581051e-03, -5.88118249e+01, -9.32981382e+00,  3.38966523e+01,\n",
       "       -7.81907748e+01,  4.35872622e+01,  6.97452249e+01,  8.13520956e+01,\n",
       "       -4.89118494e-01,  4.71990237e+01,  3.23113443e+01,  5.14911204e+00,\n",
       "        8.44975826e+01, -3.55834546e+01,  8.45371669e+01, -4.09145471e+01,\n",
       "        1.91645037e+00, -8.15961633e+01,  1.76530335e+01, -4.70923530e+01,\n",
       "        8.90683742e+01,  6.70445955e+01,  3.79791437e+01, -2.93242412e+01,\n",
       "        1.14131774e+00, -1.80594820e+01,  1.00210351e+00, -3.29717033e+01,\n",
       "        7.50218403e+01,  6.19350791e+01, -9.40646088e+00,  5.86276640e+01,\n",
       "        3.56473763e+01,  2.39646079e+01,  5.91335899e+01,  3.34648777e+01,\n",
       "        5.47390999e+00, -1.30850061e+01,  8.93227441e+01, -2.54908338e+01,\n",
       "        9.75616812e-02,  4.03719471e+01,  4.85165675e+01,  2.53568815e+01,\n",
       "       -5.30503573e+01,  5.13682920e+01, -8.35329348e+01,  8.69710339e+01,\n",
       "        1.23744020e+01,  1.97386621e+01])"
      ]
     },
     "execution_count": 36,
     "metadata": {},
     "output_type": "execute_result"
    }
   ],
   "source": [
    "# To generate 50 random numbers:\n",
    "np.random.uniform(-90.000,90.000, size = 50)"
   ]
  },
  {
   "cell_type": "code",
   "execution_count": 37,
   "metadata": {},
   "outputs": [],
   "source": [
    "# Import timeit.\n",
    "import timeit"
   ]
  },
  {
   "cell_type": "code",
   "execution_count": 40,
   "metadata": {},
   "outputs": [
    {
     "name": "stdout",
     "output_type": "stream",
     "text": [
      "31.4 µs ± 1.27 µs per loop (mean ± std. dev. of 7 runs, 10000 loops each)\n"
     ]
    }
   ],
   "source": [
    "%timeit np.random.uniform(-90.000,90.000,size=1500)\n",
    "\n",
    "# When we run the cell, the output is the amount of time it took to run the code for 7 runs and 1,000 loops per run.\n",
    "# returns the average amount of time it took to run this code; in this case : the unit is in microseconds"
   ]
  },
  {
   "cell_type": "code",
   "execution_count": 42,
   "metadata": {},
   "outputs": [
    {
     "name": "stdout",
     "output_type": "stream",
     "text": [
      "3.98 ms ± 77.9 µs per loop (mean ± std. dev. of 7 runs, 100 loops each)\n"
     ]
    }
   ],
   "source": [
    "def latitudes(size):\n",
    "    latitudes = []\n",
    "    x = 0\n",
    "    while x < (size):\n",
    "        random_lat = random.randint(-90, 90) + random.random()\n",
    "        latitudes.append(random_lat)\n",
    "        x += 1\n",
    "    return latitudes\n",
    "# Call the function with 1500.\n",
    "%timeit latitudes(1500)\n",
    "\n",
    "# The output below is milliseconds."
   ]
  },
  {
   "cell_type": "code",
   "execution_count": 43,
   "metadata": {},
   "outputs": [],
   "source": [
    "# using the np.random.uniform() methos is much faster."
   ]
  },
  {
   "cell_type": "code",
   "execution_count": null,
   "metadata": {},
   "outputs": [],
   "source": []
  }
 ],
 "metadata": {
  "kernelspec": {
   "display_name": "PythonData",
   "language": "python",
   "name": "pythondata"
  },
  "language_info": {
   "codemirror_mode": {
    "name": "ipython",
    "version": 3
   },
   "file_extension": ".py",
   "mimetype": "text/x-python",
   "name": "python",
   "nbconvert_exporter": "python",
   "pygments_lexer": "ipython3",
   "version": "3.7.7"
  }
 },
 "nbformat": 4,
 "nbformat_minor": 4
}
